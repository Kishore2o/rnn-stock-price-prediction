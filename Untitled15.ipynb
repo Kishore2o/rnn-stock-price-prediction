{
  "nbformat": 4,
  "nbformat_minor": 0,
  "metadata": {
    "colab": {
      "provenance": [],
      "authorship_tag": "ABX9TyN3FpwtAtqcJNGq78V6IYU1",
      "include_colab_link": true
    },
    "kernelspec": {
      "name": "python3",
      "display_name": "Python 3"
    },
    "language_info": {
      "name": "python"
    }
  },
  "cells": [
    {
      "cell_type": "markdown",
      "metadata": {
        "id": "view-in-github",
        "colab_type": "text"
      },
      "source": [
        "<a href=\"https://colab.research.google.com/github/Kishore2o/rnn-stock-price-prediction/blob/main/Untitled15.ipynb\" target=\"_parent\"><img src=\"https://colab.research.google.com/assets/colab-badge.svg\" alt=\"Open In Colab\"/></a>"
      ]
    },
    {
      "cell_type": "code",
      "execution_count": 13,
      "metadata": {
        "colab": {
          "base_uri": "https://localhost:8080/"
        },
        "id": "hiRe4nDHF8FO",
        "outputId": "0beefbf2-4187-47fd-91b0-c34b175389b2"
      },
      "outputs": [
        {
          "output_type": "execute_result",
          "data": {
            "text/plain": [
              "(1259, 1)"
            ]
          },
          "metadata": {},
          "execution_count": 13
        }
      ],
      "source": [
        "import numpy as np\n",
        "import matplotlib.pyplot as plt\n",
        "import pandas as pd\n",
        "from sklearn.preprocessing import MinMaxScaler\n",
        "from tensorflow.keras.layers import Dense,SimpleRNN\n",
        "from keras.models import Sequential\n",
        "\n",
        "\n",
        "dataset_train = pd.read_csv('trainset.csv')\n",
        "\n",
        "\n",
        "\n",
        "dataset_train.columns\n",
        "\n",
        "\n",
        "dataset_train.head()\n",
        "\n",
        "\n",
        "train_set = dataset_train.iloc[:,1:2].values\n",
        "\n",
        "\n",
        "type(train_set)\n",
        "\n",
        "\n",
        "train_set.shape"
      ]
    },
    {
      "cell_type": "code",
      "source": [
        "sc = MinMaxScaler(feature_range=(0,1))\n",
        "training_set_scaled = sc.fit_transform(train_set)"
      ],
      "metadata": {
        "id": "YwSgX3EMG8cd"
      },
      "execution_count": 14,
      "outputs": []
    },
    {
      "cell_type": "code",
      "source": [
        "training_set_scaled.shape"
      ],
      "metadata": {
        "colab": {
          "base_uri": "https://localhost:8080/"
        },
        "id": "efarbFLtHyHv",
        "outputId": "7bf8c0bb-1fdb-4ce9-ce52-e69567eb36ea"
      },
      "execution_count": 15,
      "outputs": [
        {
          "output_type": "execute_result",
          "data": {
            "text/plain": [
              "(1259, 1)"
            ]
          },
          "metadata": {},
          "execution_count": 15
        }
      ]
    },
    {
      "cell_type": "code",
      "source": [
        "X_train_array = []\n",
        "y_train_array = []\n",
        "for i in range(60, 1259):\n",
        "  X_train_array.append(training_set_scaled[i-60:i,0])\n",
        "  y_train_array.append(training_set_scaled[i,0])\n",
        "X_train, y_train = np.array(X_train_array), np.array(y_train_array)\n",
        "X_train1 = X_train.reshape((X_train.shape[0], X_train.shape[1],1))"
      ],
      "metadata": {
        "id": "ipTwCrYyH11x"
      },
      "execution_count": 16,
      "outputs": []
    },
    {
      "cell_type": "code",
      "source": [
        "X_train.shape"
      ],
      "metadata": {
        "colab": {
          "base_uri": "https://localhost:8080/"
        },
        "id": "ffDNa0LZH4-4",
        "outputId": "02417b05-9629-4087-e6aa-acd9613df931"
      },
      "execution_count": 17,
      "outputs": [
        {
          "output_type": "execute_result",
          "data": {
            "text/plain": [
              "(1199, 60)"
            ]
          },
          "metadata": {},
          "execution_count": 17
        }
      ]
    },
    {
      "cell_type": "code",
      "source": [
        "length = 60\n",
        "n_features = 1"
      ],
      "metadata": {
        "id": "WaSMqlr9H7Ls"
      },
      "execution_count": 18,
      "outputs": []
    },
    {
      "cell_type": "code",
      "source": [
        "model = Sequential()\n",
        "model.add(SimpleRNN(5,input_shape=(60,1)))\n",
        "model.add(Dense(1))\n",
        "model.compile(optimizer='adam', loss='mse')\n"
      ],
      "metadata": {
        "id": "YJ6zIxL5HlPp"
      },
      "execution_count": 24,
      "outputs": []
    },
    {
      "cell_type": "code",
      "source": [
        "print(\"Name:Kishore.S       Register Number:212222240050          \")\n",
        "model.summary()"
      ],
      "metadata": {
        "colab": {
          "base_uri": "https://localhost:8080/"
        },
        "id": "gr4qHqa1Hp4i",
        "outputId": "1197cb90-bf7b-476a-e929-45216ff16e96"
      },
      "execution_count": 25,
      "outputs": [
        {
          "output_type": "stream",
          "name": "stdout",
          "text": [
            "Name:Kishore.S       Register Number:212222240050          \n",
            "Model: \"sequential_4\"\n",
            "_________________________________________________________________\n",
            " Layer (type)                Output Shape              Param #   \n",
            "=================================================================\n",
            " simple_rnn_2 (SimpleRNN)    (None, 5)                 35        \n",
            "                                                                 \n",
            " dense_2 (Dense)             (None, 1)                 6         \n",
            "                                                                 \n",
            "=================================================================\n",
            "Total params: 41 (164.00 Byte)\n",
            "Trainable params: 41 (164.00 Byte)\n",
            "Non-trainable params: 0 (0.00 Byte)\n",
            "_________________________________________________________________\n"
          ]
        }
      ]
    },
    {
      "cell_type": "code",
      "source": [
        "model.fit(X_train1,y_train,epochs=100, batch_size=32)"
      ],
      "metadata": {
        "colab": {
          "base_uri": "https://localhost:8080/"
        },
        "id": "ODKYXtMlHslA",
        "outputId": "c5fa86ff-3855-44cc-ce46-491a6fcc2302"
      },
      "execution_count": 26,
      "outputs": [
        {
          "output_type": "stream",
          "name": "stdout",
          "text": [
            "Epoch 1/100\n",
            "38/38 [==============================] - 2s 9ms/step - loss: 0.1140\n",
            "Epoch 2/100\n",
            "38/38 [==============================] - 0s 9ms/step - loss: 0.0580\n",
            "Epoch 3/100\n",
            "38/38 [==============================] - 0s 10ms/step - loss: 0.0355\n",
            "Epoch 4/100\n",
            "38/38 [==============================] - 0s 11ms/step - loss: 0.0194\n",
            "Epoch 5/100\n",
            "38/38 [==============================] - 0s 10ms/step - loss: 0.0112\n",
            "Epoch 6/100\n",
            "38/38 [==============================] - 0s 9ms/step - loss: 0.0068\n",
            "Epoch 7/100\n",
            "38/38 [==============================] - 0s 9ms/step - loss: 0.0049\n",
            "Epoch 8/100\n",
            "38/38 [==============================] - 0s 9ms/step - loss: 0.0040\n",
            "Epoch 9/100\n",
            "38/38 [==============================] - 0s 10ms/step - loss: 0.0034\n",
            "Epoch 10/100\n",
            "38/38 [==============================] - 0s 8ms/step - loss: 0.0029\n",
            "Epoch 11/100\n",
            "38/38 [==============================] - 0s 9ms/step - loss: 0.0024\n",
            "Epoch 12/100\n",
            "38/38 [==============================] - 0s 10ms/step - loss: 0.0020\n",
            "Epoch 13/100\n",
            "38/38 [==============================] - 0s 11ms/step - loss: 0.0017\n",
            "Epoch 14/100\n",
            "38/38 [==============================] - 0s 11ms/step - loss: 0.0015\n",
            "Epoch 15/100\n",
            "38/38 [==============================] - 0s 10ms/step - loss: 0.0013\n",
            "Epoch 16/100\n",
            "38/38 [==============================] - 0s 10ms/step - loss: 0.0011\n",
            "Epoch 17/100\n",
            "38/38 [==============================] - 0s 11ms/step - loss: 9.9876e-04\n",
            "Epoch 18/100\n",
            "38/38 [==============================] - 0s 11ms/step - loss: 8.9473e-04\n",
            "Epoch 19/100\n",
            "38/38 [==============================] - 0s 10ms/step - loss: 8.1197e-04\n",
            "Epoch 20/100\n",
            "38/38 [==============================] - 0s 10ms/step - loss: 7.5320e-04\n",
            "Epoch 21/100\n",
            "38/38 [==============================] - 0s 10ms/step - loss: 7.0198e-04\n",
            "Epoch 22/100\n",
            "38/38 [==============================] - 0s 10ms/step - loss: 6.6604e-04\n",
            "Epoch 23/100\n",
            "38/38 [==============================] - 1s 16ms/step - loss: 6.3977e-04\n",
            "Epoch 24/100\n",
            "38/38 [==============================] - 1s 16ms/step - loss: 6.1041e-04\n",
            "Epoch 25/100\n",
            "38/38 [==============================] - 1s 16ms/step - loss: 5.9251e-04\n",
            "Epoch 26/100\n",
            "38/38 [==============================] - 1s 16ms/step - loss: 5.7185e-04\n",
            "Epoch 27/100\n",
            "38/38 [==============================] - 1s 17ms/step - loss: 5.5748e-04\n",
            "Epoch 28/100\n",
            "38/38 [==============================] - 0s 11ms/step - loss: 5.4643e-04\n",
            "Epoch 29/100\n",
            "38/38 [==============================] - 0s 10ms/step - loss: 5.4114e-04\n",
            "Epoch 30/100\n",
            "38/38 [==============================] - 0s 9ms/step - loss: 5.3263e-04\n",
            "Epoch 31/100\n",
            "38/38 [==============================] - 0s 9ms/step - loss: 5.3406e-04\n",
            "Epoch 32/100\n",
            "38/38 [==============================] - 0s 9ms/step - loss: 5.2480e-04\n",
            "Epoch 33/100\n",
            "38/38 [==============================] - 0s 9ms/step - loss: 5.1138e-04\n",
            "Epoch 34/100\n",
            "38/38 [==============================] - 0s 9ms/step - loss: 5.0117e-04\n",
            "Epoch 35/100\n",
            "38/38 [==============================] - 0s 8ms/step - loss: 5.1388e-04\n",
            "Epoch 36/100\n",
            "38/38 [==============================] - 0s 9ms/step - loss: 4.9908e-04\n",
            "Epoch 37/100\n",
            "38/38 [==============================] - 0s 9ms/step - loss: 4.9079e-04\n",
            "Epoch 38/100\n",
            "38/38 [==============================] - 0s 9ms/step - loss: 5.0398e-04\n",
            "Epoch 39/100\n",
            "38/38 [==============================] - 0s 9ms/step - loss: 4.8006e-04\n",
            "Epoch 40/100\n",
            "38/38 [==============================] - 0s 9ms/step - loss: 4.8359e-04\n",
            "Epoch 41/100\n",
            "38/38 [==============================] - 0s 9ms/step - loss: 4.7422e-04\n",
            "Epoch 42/100\n",
            "38/38 [==============================] - 0s 10ms/step - loss: 4.7135e-04\n",
            "Epoch 43/100\n",
            "38/38 [==============================] - 0s 10ms/step - loss: 4.7340e-04\n",
            "Epoch 44/100\n",
            "38/38 [==============================] - 0s 11ms/step - loss: 4.7175e-04\n",
            "Epoch 45/100\n",
            "38/38 [==============================] - 0s 10ms/step - loss: 4.7034e-04\n",
            "Epoch 46/100\n",
            "38/38 [==============================] - 0s 10ms/step - loss: 4.5933e-04\n",
            "Epoch 47/100\n",
            "38/38 [==============================] - 0s 9ms/step - loss: 4.5616e-04\n",
            "Epoch 48/100\n",
            "38/38 [==============================] - 0s 9ms/step - loss: 4.6136e-04\n",
            "Epoch 49/100\n",
            "38/38 [==============================] - 0s 9ms/step - loss: 4.5899e-04\n",
            "Epoch 50/100\n",
            "38/38 [==============================] - 0s 9ms/step - loss: 4.5147e-04\n",
            "Epoch 51/100\n",
            "38/38 [==============================] - 0s 9ms/step - loss: 4.4915e-04\n",
            "Epoch 52/100\n",
            "38/38 [==============================] - 0s 9ms/step - loss: 4.4732e-04\n",
            "Epoch 53/100\n",
            "38/38 [==============================] - 0s 9ms/step - loss: 4.4519e-04\n",
            "Epoch 54/100\n",
            "38/38 [==============================] - 0s 9ms/step - loss: 4.4056e-04\n",
            "Epoch 55/100\n",
            "38/38 [==============================] - 0s 8ms/step - loss: 4.3932e-04\n",
            "Epoch 56/100\n",
            "38/38 [==============================] - 1s 15ms/step - loss: 4.4251e-04\n",
            "Epoch 57/100\n",
            "38/38 [==============================] - 1s 14ms/step - loss: 4.2891e-04\n",
            "Epoch 58/100\n",
            "38/38 [==============================] - 1s 15ms/step - loss: 4.2532e-04\n",
            "Epoch 59/100\n",
            "38/38 [==============================] - 1s 16ms/step - loss: 4.2410e-04\n",
            "Epoch 60/100\n",
            "38/38 [==============================] - 1s 14ms/step - loss: 4.2818e-04\n",
            "Epoch 61/100\n",
            "38/38 [==============================] - 0s 8ms/step - loss: 4.2146e-04\n",
            "Epoch 62/100\n",
            "38/38 [==============================] - 0s 9ms/step - loss: 4.2114e-04\n",
            "Epoch 63/100\n",
            "38/38 [==============================] - 0s 9ms/step - loss: 4.1509e-04\n",
            "Epoch 64/100\n",
            "38/38 [==============================] - 0s 9ms/step - loss: 4.1647e-04\n",
            "Epoch 65/100\n",
            "38/38 [==============================] - 0s 11ms/step - loss: 4.0923e-04\n",
            "Epoch 66/100\n",
            "38/38 [==============================] - 0s 10ms/step - loss: 4.0583e-04\n",
            "Epoch 67/100\n",
            "38/38 [==============================] - 0s 10ms/step - loss: 4.1119e-04\n",
            "Epoch 68/100\n",
            "38/38 [==============================] - 0s 10ms/step - loss: 4.0486e-04\n",
            "Epoch 69/100\n",
            "38/38 [==============================] - 0s 10ms/step - loss: 4.0843e-04\n",
            "Epoch 70/100\n",
            "38/38 [==============================] - 0s 9ms/step - loss: 3.9357e-04\n",
            "Epoch 71/100\n",
            "38/38 [==============================] - 0s 9ms/step - loss: 4.0060e-04\n",
            "Epoch 72/100\n",
            "38/38 [==============================] - 0s 9ms/step - loss: 4.1335e-04\n",
            "Epoch 73/100\n",
            "38/38 [==============================] - 0s 9ms/step - loss: 3.9976e-04\n",
            "Epoch 74/100\n",
            "38/38 [==============================] - 0s 8ms/step - loss: 3.8813e-04\n",
            "Epoch 75/100\n",
            "38/38 [==============================] - 0s 9ms/step - loss: 3.8647e-04\n",
            "Epoch 76/100\n",
            "38/38 [==============================] - 0s 9ms/step - loss: 3.8406e-04\n",
            "Epoch 77/100\n",
            "38/38 [==============================] - 0s 8ms/step - loss: 3.8457e-04\n",
            "Epoch 78/100\n",
            "38/38 [==============================] - 0s 10ms/step - loss: 3.8472e-04\n",
            "Epoch 79/100\n",
            "38/38 [==============================] - 0s 11ms/step - loss: 3.7366e-04\n",
            "Epoch 80/100\n",
            "38/38 [==============================] - 0s 10ms/step - loss: 3.8425e-04\n",
            "Epoch 81/100\n",
            "38/38 [==============================] - 0s 11ms/step - loss: 4.0462e-04\n",
            "Epoch 82/100\n",
            "38/38 [==============================] - 0s 10ms/step - loss: 3.7469e-04\n",
            "Epoch 83/100\n",
            "38/38 [==============================] - 0s 10ms/step - loss: 3.6260e-04\n",
            "Epoch 84/100\n",
            "38/38 [==============================] - 0s 13ms/step - loss: 3.8138e-04\n",
            "Epoch 85/100\n",
            "38/38 [==============================] - 0s 10ms/step - loss: 3.6169e-04\n",
            "Epoch 86/100\n",
            "38/38 [==============================] - 0s 9ms/step - loss: 3.5971e-04\n",
            "Epoch 87/100\n",
            "38/38 [==============================] - 0s 12ms/step - loss: 3.6048e-04\n",
            "Epoch 88/100\n",
            "38/38 [==============================] - 1s 16ms/step - loss: 3.5093e-04\n",
            "Epoch 89/100\n",
            "38/38 [==============================] - 1s 14ms/step - loss: 3.5915e-04\n",
            "Epoch 90/100\n",
            "38/38 [==============================] - 1s 15ms/step - loss: 3.5523e-04\n",
            "Epoch 91/100\n",
            "38/38 [==============================] - 1s 16ms/step - loss: 3.4644e-04\n",
            "Epoch 92/100\n",
            "38/38 [==============================] - 0s 11ms/step - loss: 3.4300e-04\n",
            "Epoch 93/100\n",
            "38/38 [==============================] - 0s 9ms/step - loss: 3.4339e-04\n",
            "Epoch 94/100\n",
            "38/38 [==============================] - 0s 8ms/step - loss: 3.4023e-04\n",
            "Epoch 95/100\n",
            "38/38 [==============================] - 0s 9ms/step - loss: 3.3487e-04\n",
            "Epoch 96/100\n",
            "38/38 [==============================] - 0s 9ms/step - loss: 3.3338e-04\n",
            "Epoch 97/100\n",
            "38/38 [==============================] - 0s 10ms/step - loss: 3.2673e-04\n",
            "Epoch 98/100\n",
            "38/38 [==============================] - 0s 10ms/step - loss: 3.2672e-04\n",
            "Epoch 99/100\n",
            "38/38 [==============================] - 0s 10ms/step - loss: 3.3103e-04\n",
            "Epoch 100/100\n",
            "38/38 [==============================] - 0s 10ms/step - loss: 3.2356e-04\n"
          ]
        },
        {
          "output_type": "execute_result",
          "data": {
            "text/plain": [
              "<keras.src.callbacks.History at 0x7a13585723e0>"
            ]
          },
          "metadata": {},
          "execution_count": 26
        }
      ]
    },
    {
      "cell_type": "code",
      "source": [
        "dataset_test = pd.read_csv('testset.csv')"
      ],
      "metadata": {
        "id": "niUAAz2THw5p"
      },
      "execution_count": 28,
      "outputs": []
    },
    {
      "cell_type": "code",
      "source": [
        "test_set = dataset_test.iloc[:,1:2].values"
      ],
      "metadata": {
        "id": "RyMg-GXRHzMk"
      },
      "execution_count": 29,
      "outputs": []
    },
    {
      "cell_type": "code",
      "source": [
        "test_set.shape"
      ],
      "metadata": {
        "colab": {
          "base_uri": "https://localhost:8080/"
        },
        "id": "ara2TEy7H1g5",
        "outputId": "c0b5477a-5926-4005-bed5-be881e608c6e"
      },
      "execution_count": 30,
      "outputs": [
        {
          "output_type": "execute_result",
          "data": {
            "text/plain": [
              "(125, 1)"
            ]
          },
          "metadata": {},
          "execution_count": 30
        }
      ]
    },
    {
      "cell_type": "code",
      "source": [
        "dataset_total = pd.concat((dataset_train['Open'],dataset_test['Open']),axis=0)"
      ],
      "metadata": {
        "id": "e6tzhvakH3n6"
      },
      "execution_count": 31,
      "outputs": []
    },
    {
      "cell_type": "code",
      "source": [
        "\n",
        "inputs = dataset_total.values\n",
        "inputs = inputs.reshape(-1,1)\n",
        "inputs_scaled=sc.transform(inputs)\n",
        "X_test = []\n",
        "for i in range(60,1384):\n",
        "  X_test.append(inputs_scaled[i-60:i,0])\n",
        "X_test = np.array(X_test)\n",
        "X_test = np.reshape(X_test,(X_test.shape[0], X_test.shape[1],1))\n",
        ""
      ],
      "metadata": {
        "id": "vbwZj8ZzH6Od"
      },
      "execution_count": 32,
      "outputs": []
    },
    {
      "cell_type": "code",
      "source": [
        "\n",
        "X_test.shape\n",
        ""
      ],
      "metadata": {
        "colab": {
          "base_uri": "https://localhost:8080/"
        },
        "id": "U9vHS4aJH8T6",
        "outputId": "265ca672-f858-42b6-d7fb-197ff84c0fd0"
      },
      "execution_count": 33,
      "outputs": [
        {
          "output_type": "execute_result",
          "data": {
            "text/plain": [
              "(1324, 60, 1)"
            ]
          },
          "metadata": {},
          "execution_count": 33
        }
      ]
    },
    {
      "cell_type": "code",
      "source": [
        "predicted_stock_price_scaled = model.predict(X_test)\n",
        "predicted_stock_price = sc.inverse_transform(predicted_stock_price_scaled)\n",
        ""
      ],
      "metadata": {
        "colab": {
          "base_uri": "https://localhost:8080/"
        },
        "id": "tNCPL7ngH-Vs",
        "outputId": "7b1073f3-c622-4507-f92c-e0aceb45cf09"
      },
      "execution_count": 34,
      "outputs": [
        {
          "output_type": "stream",
          "name": "stdout",
          "text": [
            "42/42 [==============================] - 0s 4ms/step\n"
          ]
        }
      ]
    },
    {
      "cell_type": "code",
      "source": [
        "print(\"Name:  S.Kishore         Register Number:  212222240050\")\n",
        "plt.plot(np.arange(0,1384),inputs, color='red', label = 'Test(Real) Google stock price')\n",
        "plt.plot(np.arange(60,1384),predicted_stock_price, color='blue', label = 'Predicted Google stock price')\n",
        "plt.title('Google Stock Price Prediction')\n",
        "plt.xlabel('Time')\n",
        "plt.ylabel('Google Stock Price')\n",
        "plt.legend()\n",
        "plt.show()"
      ],
      "metadata": {
        "colab": {
          "base_uri": "https://localhost:8080/",
          "height": 489
        },
        "id": "eqaABy6UIA1b",
        "outputId": "c0bac63c-7db8-4593-f06a-1b9ebd57d611"
      },
      "execution_count": 35,
      "outputs": [
        {
          "output_type": "stream",
          "name": "stdout",
          "text": [
            "Name:  S.Kishore         Register Number:  212222240050\n"
          ]
        },
        {
          "output_type": "display_data",
          "data": {
            "text/plain": [
              "<Figure size 640x480 with 1 Axes>"
            ],
            "image/png": "[encoded data removed]"
          },
          "metadata": {}
        }
      ]
    }
  ]
}